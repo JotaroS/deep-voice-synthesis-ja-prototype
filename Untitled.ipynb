{
 "cells": [
  {
   "cell_type": "markdown",
   "metadata": {},
   "source": [
    "### 日本語→ローマ字変換ツールの用意"
   ]
  },
  {
   "cell_type": "code",
   "execution_count": 21,
   "metadata": {
    "collapsed": true
   },
   "outputs": [],
   "source": [
    "import pandas as pd\n",
    "import MeCab\n",
    "from pykakasi import kakasi\n",
    "import jaconv\n",
    "\n",
    "kakasi = kakasi()\n",
    "kakasi.setMode('K', 'a')\n",
    "me = MeCab.Tagger ()\n",
    "conv = kakasi.getConverter()\n",
    "\n",
    "def convert_romaji(txt):\n",
    "  arrays = [i[1] if len(i[1]) > 0 else i[0] for i in [t.split(\"\\t\") for t in me.parse(txt).split(\"\\n\")] if len(i) > 2]\n",
    "  return \" \".join([jaconv.hira2kata(a) for a in arrays if a is not None]).replace(\"、\", \",\").replace(\"。\", \".\")\n",
    "\n",
    "\n",
    "def japanese_alphabet(jpn_text):\n",
    "    kana = convert_romaji(jpn_text)\n",
    "    kana = conv.do(kana)\n",
    "    return kana\n"
   ]
  },
  {
   "cell_type": "markdown",
   "metadata": {},
   "source": [
    "### 声優統計コーパスの読み込み"
   ]
  },
  {
   "cell_type": "code",
   "execution_count": 22,
   "metadata": {},
   "outputs": [
    {
     "data": {
      "text/html": [
       "<div>\n",
       "<style scoped>\n",
       "    .dataframe tbody tr th:only-of-type {\n",
       "        vertical-align: middle;\n",
       "    }\n",
       "\n",
       "    .dataframe tbody tr th {\n",
       "        vertical-align: top;\n",
       "    }\n",
       "\n",
       "    .dataframe thead th {\n",
       "        text-align: right;\n",
       "    }\n",
       "</style>\n",
       "<table border=\"1\" class=\"dataframe\">\n",
       "  <thead>\n",
       "    <tr style=\"text-align: right;\">\n",
       "      <th></th>\n",
       "      <th>sentence_id</th>\n",
       "      <th>sentence</th>\n",
       "      <th>yomi</th>\n",
       "      <th>monophone</th>\n",
       "    </tr>\n",
       "  </thead>\n",
       "  <tbody>\n",
       "    <tr>\n",
       "      <th>0</th>\n",
       "      <td>1</td>\n",
       "      <td>また東寺のように五大明王と呼ばれる主要な明王の中央に配されることも多い</td>\n",
       "      <td>マタトージノヨーニゴダイミョウオートヨバレルシュヨーナミョーオーノチューオーニハイサレルコト...</td>\n",
       "      <td>m/a,t/a,t/o:,j/i,n/o,y/o:,n/i,g/o,d/a,i,my/o,u...</td>\n",
       "    </tr>\n",
       "    <tr>\n",
       "      <th>1</th>\n",
       "      <td>2</td>\n",
       "      <td>ニューイングランド風は牛乳をベースとした白いクリームスープでありボストンクラムチャウダーとも...</td>\n",
       "      <td>ニューイングランドフーワギューニューヲベーストシタシロイクリームスープデアリボストンクラムチ...</td>\n",
       "      <td>ny/u:,i,N,g/u,r/a,N,d/o,f/u:,w/a,gy/u:,ny/u:,o...</td>\n",
       "    </tr>\n",
       "    <tr>\n",
       "      <th>2</th>\n",
       "      <td>3</td>\n",
       "      <td>コンピュータゲームのメーカーや業界団体などに関連する人物のカテゴリ</td>\n",
       "      <td>コンピュータゲームノメーカーヤギョーカイダンタイナドニカンレンスルジンブツノカテゴリ</td>\n",
       "      <td>k/o,N,py/u:,t/a,g/e:,m/u,n/o,m/e:,k/a:,y/a,gy/...</td>\n",
       "    </tr>\n",
       "    <tr>\n",
       "      <th>3</th>\n",
       "      <td>4</td>\n",
       "      <td>サービスマネージャー導入駅のため大井町駅から遠隔監視している</td>\n",
       "      <td>サービスマネージャードーニューエキノタメオーイマチエキカラエンカクカンシシテイル</td>\n",
       "      <td>s/a:,b/i,s/u,m/a,n/e:,j/a:,d/o:,ny/u:,e,k/i,n/...</td>\n",
       "    </tr>\n",
       "    <tr>\n",
       "      <th>4</th>\n",
       "      <td>5</td>\n",
       "      <td>シルバーサーファー襲撃事件までにリチャーズはチーム名と共に国際的にスーパーヒーローおよび有名...</td>\n",
       "      <td>シルバーサーファーシューゲキジケンマデニリチャーズワチームメイトトモニコクサイテキニスーパー...</td>\n",
       "      <td>sh/i,r/u,b/a:,s/a:,f/a:,sh/u:,g/e,k/i,j/i,k/e,...</td>\n",
       "    </tr>\n",
       "    <tr>\n",
       "      <th>...</th>\n",
       "      <td>...</td>\n",
       "      <td>...</td>\n",
       "      <td>...</td>\n",
       "      <td>...</td>\n",
       "    </tr>\n",
       "    <tr>\n",
       "      <th>95</th>\n",
       "      <td>96</td>\n",
       "      <td>ペンシルベニア州ピッツバーグのアレゲーニー高校を卒業しカリフォルニア大学バークレー校に入学</td>\n",
       "      <td>ペンシルベニアシューピッツバーグノアレゲーニーコーコーヲソツギョーシカリフォルニアダイガクバ...</td>\n",
       "      <td>p/e,N,sh/i,r/u,b/e,n/i,a,sh/u:,p/i,q,ts/u,b/a:...</td>\n",
       "    </tr>\n",
       "    <tr>\n",
       "      <th>96</th>\n",
       "      <td>97</td>\n",
       "      <td>この概念の導入によって様々なバリエーションの流体のコンピューターシミュレーションが高い精度で...</td>\n",
       "      <td>コノガイネンノドーニューニヨッテサマザマナバリエーションノリュータイノコンピューターシミュレ...</td>\n",
       "      <td>k/o,n/o,g/a,i,n/e,N,n/o,d/o:,ny/u:,n/i,y/o,q,t...</td>\n",
       "    </tr>\n",
       "    <tr>\n",
       "      <th>97</th>\n",
       "      <td>98</td>\n",
       "      <td>乾ドックに入渠してオーバーホールすべきかどうかパフォーマンスがチェックされた</td>\n",
       "      <td>カンドックニニューキョシテオーバーホールスベキカドーカパフォーマンスガチェックサレタ</td>\n",
       "      <td>k/a,N,d/o,q,k/u,n/i,ny/u:,ky/o,sh/i,t/e,o:,b/a...</td>\n",
       "    </tr>\n",
       "    <tr>\n",
       "      <th>98</th>\n",
       "      <td>99</td>\n",
       "      <td>デビューウェイトはスーパーバンタム級ではなくフェザー級だった</td>\n",
       "      <td>デビューウェイトワスーパーバンタムキューデワナクフェザーキューダッタ</td>\n",
       "      <td>d/e,by/u:,w/e,i,t/o,w/a,s/u:,p/a:,b/a,N,t/a,m/...</td>\n",
       "    </tr>\n",
       "    <tr>\n",
       "      <th>99</th>\n",
       "      <td>100</td>\n",
       "      <td>アーリーは降雨の中を南のバージニア州ウィンチェスター近くのフィッシャーズヒルまで軍を退いた</td>\n",
       "      <td>アーリーワコーウノナカヲミナミノバージニアシューウィンチェスターチカクノフィッシャーズヒルマ...</td>\n",
       "      <td>a:,r/i:,w/a,k/o:,u,n/o,n/a,k/a,o,m/i,n/a,m/i,n...</td>\n",
       "    </tr>\n",
       "  </tbody>\n",
       "</table>\n",
       "<p>100 rows × 4 columns</p>\n",
       "</div>"
      ],
      "text/plain": [
       "    sentence_id                                           sentence  \\\n",
       "0             1                また東寺のように五大明王と呼ばれる主要な明王の中央に配されることも多い   \n",
       "1             2  ニューイングランド風は牛乳をベースとした白いクリームスープでありボストンクラムチャウダーとも...   \n",
       "2             3                  コンピュータゲームのメーカーや業界団体などに関連する人物のカテゴリ   \n",
       "3             4                     サービスマネージャー導入駅のため大井町駅から遠隔監視している   \n",
       "4             5  シルバーサーファー襲撃事件までにリチャーズはチーム名と共に国際的にスーパーヒーローおよび有名...   \n",
       "..          ...                                                ...   \n",
       "95           96      ペンシルベニア州ピッツバーグのアレゲーニー高校を卒業しカリフォルニア大学バークレー校に入学   \n",
       "96           97  この概念の導入によって様々なバリエーションの流体のコンピューターシミュレーションが高い精度で...   \n",
       "97           98             乾ドックに入渠してオーバーホールすべきかどうかパフォーマンスがチェックされた   \n",
       "98           99                     デビューウェイトはスーパーバンタム級ではなくフェザー級だった   \n",
       "99          100      アーリーは降雨の中を南のバージニア州ウィンチェスター近くのフィッシャーズヒルまで軍を退いた   \n",
       "\n",
       "                                                 yomi  \\\n",
       "0   マタトージノヨーニゴダイミョウオートヨバレルシュヨーナミョーオーノチューオーニハイサレルコト...   \n",
       "1   ニューイングランドフーワギューニューヲベーストシタシロイクリームスープデアリボストンクラムチ...   \n",
       "2          コンピュータゲームノメーカーヤギョーカイダンタイナドニカンレンスルジンブツノカテゴリ   \n",
       "3            サービスマネージャードーニューエキノタメオーイマチエキカラエンカクカンシシテイル   \n",
       "4   シルバーサーファーシューゲキジケンマデニリチャーズワチームメイトトモニコクサイテキニスーパー...   \n",
       "..                                                ...   \n",
       "95  ペンシルベニアシューピッツバーグノアレゲーニーコーコーヲソツギョーシカリフォルニアダイガクバ...   \n",
       "96  コノガイネンノドーニューニヨッテサマザマナバリエーションノリュータイノコンピューターシミュレ...   \n",
       "97         カンドックニニューキョシテオーバーホールスベキカドーカパフォーマンスガチェックサレタ   \n",
       "98                 デビューウェイトワスーパーバンタムキューデワナクフェザーキューダッタ   \n",
       "99  アーリーワコーウノナカヲミナミノバージニアシューウィンチェスターチカクノフィッシャーズヒルマ...   \n",
       "\n",
       "                                            monophone  \n",
       "0   m/a,t/a,t/o:,j/i,n/o,y/o:,n/i,g/o,d/a,i,my/o,u...  \n",
       "1   ny/u:,i,N,g/u,r/a,N,d/o,f/u:,w/a,gy/u:,ny/u:,o...  \n",
       "2   k/o,N,py/u:,t/a,g/e:,m/u,n/o,m/e:,k/a:,y/a,gy/...  \n",
       "3   s/a:,b/i,s/u,m/a,n/e:,j/a:,d/o:,ny/u:,e,k/i,n/...  \n",
       "4   sh/i,r/u,b/a:,s/a:,f/a:,sh/u:,g/e,k/i,j/i,k/e,...  \n",
       "..                                                ...  \n",
       "95  p/e,N,sh/i,r/u,b/e,n/i,a,sh/u:,p/i,q,ts/u,b/a:...  \n",
       "96  k/o,n/o,g/a,i,n/e,N,n/o,d/o:,ny/u:,n/i,y/o,q,t...  \n",
       "97  k/a,N,d/o,q,k/u,n/i,ny/u:,ky/o,sh/i,t/e,o:,b/a...  \n",
       "98  d/e,by/u:,w/e,i,t/o,w/a,s/u:,p/a:,b/a,N,t/a,m/...  \n",
       "99  a:,r/i:,w/a,k/o:,u,n/o,n/a,k/a,o,m/i,n/a,m/i,n...  \n",
       "\n",
       "[100 rows x 4 columns]"
      ]
     },
     "execution_count": 22,
     "metadata": {},
     "output_type": "execute_result"
    }
   ],
   "source": [
    "df = pd.read_csv(\"balance-sentences.txt\", delimiter='\\t')\n",
    "df"
   ]
  },
  {
   "cell_type": "code",
   "execution_count": 27,
   "metadata": {},
   "outputs": [],
   "source": [
    "df['romaji'] = df['sentence'].apply(lambda x: japanese_alphabet(x)+'.')\n",
    "df['sound_file'] = df['sentence_id'].apply(lambda x: '/wav/uemura_normal_{:03}.wav'.format(x))\n",
    "df_out = df[['sound_file','romaji']]\n",
    "df_out"
   ]
  },
  {
   "cell_type": "code",
   "execution_count": 29,
   "metadata": {},
   "outputs": [
    {
     "ename": "TypeError",
     "evalue": "to_csv() got an unexpected keyword argument 'delimiter'",
     "output_type": "error",
     "traceback": [
      "\u001b[0;31m---------------------------------------------------------------------------\u001b[0m",
      "\u001b[0;31mTypeError\u001b[0m                                 Traceback (most recent call last)",
      "\u001b[0;32m<ipython-input-29-b3f3d1b7731b>\u001b[0m in \u001b[0;36m<module>\u001b[0;34m()\u001b[0m\n\u001b[0;32m----> 1\u001b[0;31m \u001b[0mdf_out\u001b[0m\u001b[0;34m.\u001b[0m\u001b[0mto_csv\u001b[0m\u001b[0;34m(\u001b[0m\u001b[0;34m'balance_text_formatted.txt'\u001b[0m\u001b[0;34m,\u001b[0m \u001b[0mdelimiter\u001b[0m\u001b[0;34m=\u001b[0m\u001b[0;34m'|'\u001b[0m\u001b[0;34m)\u001b[0m\u001b[0;34m\u001b[0m\u001b[0m\n\u001b[0m",
      "\u001b[0;31mTypeError\u001b[0m: to_csv() got an unexpected keyword argument 'delimiter'"
     ]
    }
   ],
   "source": [
    "df_out.to_csv('balance_text_formatted.txt', delimiter='|')"
   ]
  },
  {
   "cell_type": "code",
   "execution_count": null,
   "metadata": {
    "collapsed": true
   },
   "outputs": [],
   "source": []
  },
  {
   "cell_type": "code",
   "execution_count": null,
   "metadata": {
    "collapsed": true
   },
   "outputs": [],
   "source": []
  }
 ],
 "metadata": {
  "kernelspec": {
   "display_name": "Python 3",
   "language": "python",
   "name": "python3"
  },
  "language_info": {
   "codemirror_mode": {
    "name": "ipython",
    "version": 3
   },
   "file_extension": ".py",
   "mimetype": "text/x-python",
   "name": "python",
   "nbconvert_exporter": "python",
   "pygments_lexer": "ipython3",
   "version": "3.6.3"
  }
 },
 "nbformat": 4,
 "nbformat_minor": 2
}
